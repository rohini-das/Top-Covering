{
 "cells": [
  {
   "cell_type": "code",
   "execution_count": 1,
   "metadata": {},
   "outputs": [],
   "source": [
    "def getagentPreferences(N, coalition):\n",
    "    newPreferences = dict((k,[]) for k in N)\n",
    "    for k in N:\n",
    "        preferredCoalitions = agentPreferences[k]\n",
    "        preferenceList = []\n",
    "        length = len(preferredCoalitions)\n",
    "        for i in range(length):\n",
    "            if((preferredCoalitions[i].intersection(coalition))==set()):\n",
    "                preferenceList.append(preferredCoalitions[i])\n",
    "        newPreferences[k] = preferenceList\n",
    "    \n",
    "    return newPreferences\n",
    "\n"
   ]
  },
  {
   "cell_type": "code",
   "execution_count": 2,
   "metadata": {},
   "outputs": [],
   "source": [
    "def getC(N):\n",
    "        c = dict((i, set()) for i in N)\n",
    "        l = getagentPreferences(N, S)\n",
    "        for k in N:\n",
    "            list1 = l[k]\n",
    "            c[k] = list1[0]\n",
    "        return c\n"
   ]
  },
  {
   "cell_type": "code",
   "execution_count": 3,
   "metadata": {},
   "outputs": [],
   "source": [
    "def getCC(c1, N, Q):\n",
    "    global z\n",
    "    global b\n",
    "    if(N<=2):\n",
    "        for x in c1:\n",
    "            b = getC(Q)\n",
    "            z=z.union(b[x])\n",
    "        return z\n",
    "    else:\n",
    "        for x in getCC(c1, N-1, Q):\n",
    "            b = getC(Q)\n",
    "            z=z.union(b[x])\n",
    "        return z\n"
   ]
  },
  {
   "cell_type": "code",
   "execution_count": 4,
   "metadata": {},
   "outputs": [
    {
     "name": "stdout",
     "output_type": "stream",
     "text": [
      "[{2, 3, 4}, {1, 5}]\n"
     ]
    }
   ],
   "source": [
    "agents = {1,2,3,4,5}\n",
    "\n",
    "    \n",
    "agentPreferences= {\n",
    "      1: [{1,2,3,4}, {1,2,3,4,5}, {1,2,4,5}, {1,5}],\n",
    "      2: [{2,3}, {1,2,3}, {2,3,4}, {2,3,5}, {1,2,3,4}],\n",
    "      3: [{2,3,4}, {1,2,3,4}, {2,3,4,5}, {1,2,3,4,5}, {1,2,3,5}],\n",
    "      4: [{2,3,4}, {1,2,3,4}, {2,3,4,5}, {1,2,3,4,5}, {1,3,4,5}, {4}],\n",
    "      5: [{1,3,4,5}, {1,2,3,4,5}, {1,5}]\n",
    "      }\n",
    "\n",
    "\n",
    "R = agents\n",
    "z = set()\n",
    "P = []\n",
    "S = {}\n",
    "\n",
    "y = len(R)     \n",
    "for k in range(1,(y+1)):\n",
    "    global S\n",
    "    global R\n",
    "    small = 10;\n",
    "    f = getC(R)\n",
    "    #print(f)\n",
    "    for i in R:\n",
    "        #print(getCC(f[i], 2, R))\n",
    "        if(len(getCC(f[i], len(R), R))<small):\n",
    "            small = len(getCC(f[i], len(R), R))\n",
    "            m = i\n",
    "        z = set()\n",
    "    #print(small)\n",
    "    \n",
    "    S = getCC(f[m], len(R), R)\n",
    "    #print(S)\n",
    "    P.append(S)\n",
    "    #print(P)\n",
    "    R = R - S\n",
    "    y = len(R)\n",
    "    #print(R)\n",
    "    if(R == set()):\n",
    "        break\n",
    "   \n",
    "print(P)\n"
   ]
  },
  {
   "cell_type": "code",
   "execution_count": null,
   "metadata": {},
   "outputs": [],
   "source": []
  },
  {
   "cell_type": "code",
   "execution_count": null,
   "metadata": {},
   "outputs": [],
   "source": []
  }
 ],
 "metadata": {
  "kernelspec": {
   "display_name": "Python 3",
   "language": "python",
   "name": "python3"
  },
  "language_info": {
   "codemirror_mode": {
    "name": "ipython",
    "version": 3
   },
   "file_extension": ".py",
   "mimetype": "text/x-python",
   "name": "python",
   "nbconvert_exporter": "python",
   "pygments_lexer": "ipython3",
   "version": "3.6.4"
  }
 },
 "nbformat": 4,
 "nbformat_minor": 2
}
